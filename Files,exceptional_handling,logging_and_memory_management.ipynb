{
  "nbformat": 4,
  "nbformat_minor": 0,
  "metadata": {
    "colab": {
      "provenance": []
    },
    "kernelspec": {
      "name": "python3",
      "display_name": "Python 3"
    },
    "language_info": {
      "name": "python"
    }
  },
  "cells": [
    {
      "cell_type": "markdown",
      "source": [
        "##Files, exceptional handling, logging and memory managemen"
      ],
      "metadata": {
        "id": "OLVKp85n6bIN"
      }
    },
    {
      "cell_type": "markdown",
      "source": [
        "1. What is the difference between interpreted and compiled languages ?\n",
        "\n",
        "  - Compiled Languages: The source code is translated into machine code all at once by a compiler before it is run.\n",
        "\n",
        "    Examples: C, C++, Rust, Go, Swift\n",
        "\n",
        "  - Interpreted Languages: The source code is executed line-by-line by an interpreter at runtime.\n",
        "\n",
        "      Examples: Python, JavaScript, Ruby, PHP\n",
        "\n",
        "\n",
        "\n"
      ],
      "metadata": {
        "id": "z0O0wglC7ANo"
      }
    },
    {
      "cell_type": "markdown",
      "source": [
        "2. What is exception handling in Python ?\n",
        "\n",
        "  - Exception handling in Python is a mechanism that allows you to handle errors gracefully during program execution. It uses `try`, `except`, `else`, and `finally` blocks to catch and manage exceptions, preventing the program from crashing and allowing alternative actions or error messages when something goes wrong.\n"
      ],
      "metadata": {
        "id": "RB2sWHlm8OBN"
      }
    },
    {
      "cell_type": "markdown",
      "source": [
        "3. What is the purpose of the finally block in exception handling ?\n",
        "\n",
        "  - The finally block in Python is used to define a section of code that always executes, regardless of whether an exception was raised or not. Its main purpose is to perform cleanup actions, such as closing files, releasing resources, or resetting variables, ensuring that these tasks run even if an error occurs."
      ],
      "metadata": {
        "id": "x8h4sGs_88sT"
      }
    },
    {
      "cell_type": "markdown",
      "source": [
        "4.  What is logging in Python ?\n",
        "\n",
        "  - Logging in Python is a way to track events that happen when a program runs. It helps developers record messages, errors, warnings, or other information to understand the program's behavior, especially during debugging or monitoring. Python provides a built-in logging module that allows messages to be written to files, consoles, or other outputs with different severity levels like DEBUG, INFO, WARNING, ERROR, and CRITICAL."
      ],
      "metadata": {
        "id": "eXt3SbIy9pbo"
      }
    },
    {
      "cell_type": "markdown",
      "source": [
        "5.  What is the significance of the __ del__ method in Python ?\n",
        "\n",
        "  - The __ del__ method in Python is a special method called a destructor. It is automatically invoked when an object is about to be destroyed. The main significance of __ del__ is to perform cleanup operations, such as closing files or releasing system resources before the object is deleted from memory. However, its use should be limited, as it may not always be called immediately, especially when objects are part of circular references."
      ],
      "metadata": {
        "id": "fEfwKpt298cN"
      }
    },
    {
      "cell_type": "markdown",
      "source": [
        "6. What is the difference between import and from ... import in Python ?\n",
        "\n",
        "  - In Python, both import and from ... import are used to include external modules, but they differ in usage:\n",
        "\n",
        "  - import module imports the entire module, and you must use the module name to access its functions or variables.\n",
        "\n",
        "    Example:\n",
        "  \n",
        "    import math  \n",
        "    print(math.sqrt(16))\n",
        "\n",
        "  - from module import name imports specific functions, classes, or variables directly from the module, so you can use them without the module name.\n",
        "\n",
        "    Example:\n",
        "\n",
        "    from math import sqrt  \n",
        "    print(sqrt(16))"
      ],
      "metadata": {
        "id": "pgVjr0hk-96R"
      }
    },
    {
      "cell_type": "markdown",
      "source": [
        "7. How can you handle multiple exceptions in Python ?\n",
        "\n",
        "  - In Python,I can handle multiple exceptions by using multiple except blocks or by grouping exceptions in a single block using parentheses.\n",
        "\n",
        "\n",
        "              try:\n",
        "                  x = int(\"abc\")\n",
        "              except (ValueError, TypeError):\n",
        "                  print(\"Value or Type error occurred\")    \n"
      ],
      "metadata": {
        "id": "OW9uvEM9_5ku"
      }
    },
    {
      "cell_type": "markdown",
      "source": [
        "8. What is the purpose of the with statement when handling files in Python ?\n",
        "\n",
        "  - with statement in Python is used when working with files to ensure that the file is automatically closed after its block of code is executed, even if an error occurs. It simplifies file handling by managing resources efficiently and reduces the risk of forgetting to close the file manually.\n",
        "\n",
        "            Example:\n",
        "\n",
        "              with open(\"data.txt\", \"r\") as file:\n",
        "                  content = file.read()\n",
        "                  print(content)"
      ],
      "metadata": {
        "id": "Dz5XoRhbBXsR"
      }
    },
    {
      "cell_type": "markdown",
      "source": [
        "9. What is the difference between multithreading and multiprocessing ?\n",
        "\n",
        "  The difference between multithreading and multiprocessing lies in how tasks are executed concurrently:\n",
        "\n",
        "  - Multithreading involves running multiple threads within a single process. Threads share the same memory space, making communication between them easy but also increasing the risk of data conflicts. It is suitable for I/O-bound tasks like file handling or network operations.\n",
        "\n",
        "   - Multiprocessing runs multiple processes, each with its own memory space. It avoids data sharing issues and is better for CPU-bound tasks, such as complex computations, as it can take full advantage of multiple CPU cores."
      ],
      "metadata": {
        "id": "dWb7D-YOCdQF"
      }
    },
    {
      "cell_type": "markdown",
      "source": [
        "10. What are the advantages of using logging in a program ?\n",
        "    \n",
        "    The advantages of using logging in a program include:\n",
        "\n",
        "*   Debugging Support: Helps track and identify errors or bugs in the code.\n",
        "*   Monitoring: Records events and activities, useful for monitoring program behavior over time.\n",
        "*   No Need for Print Statements: More flexible and professional than using print() for debugging.\n",
        "*   Severity Levels: Supports different log levels (DEBUG, INFO, WARNING, ERROR, CRITICAL) to control the detail of logged information.\n",
        "*   Persistent Logs: Logs can be saved to files for later review.\n",
        "*   Customizable Output: You can format and direct logs to different destinations (console, files, etc.).\n",
        "*   Better Maintenance: Makes it easier to maintain and troubleshoot large applications."
      ],
      "metadata": {
        "id": "LdKysXyaEQZr"
      }
    },
    {
      "cell_type": "markdown",
      "source": [
        "11. What is memory management in Python ?\n",
        "\n",
        "  - Memory management in Python refers to the process of allocating, using, and freeing memory during program execution. Python handles memory management automatically using a built-in garbage collector, which frees up memory by deleting objects that are no longer in use. It also uses techniques like reference counting and dynamic memory allocation to efficiently manage memory usage, helping developers focus more on coding and less on manual memory handling."
      ],
      "metadata": {
        "id": "hQtKo4OFFZY3"
      }
    },
    {
      "cell_type": "markdown",
      "source": [
        "12. What are the basic steps involved in exception handling in Python ?\n",
        "\n",
        "   The basic steps involved in exception handling in Python are:\n",
        "\n",
        "    *   Try Block: Place the code that might cause an exception inside a try block.\n",
        "    *   Except Block: Write one or more except blocks to handle specific exceptions that may occur.\n",
        "    *   Else Block (Optional): Executes if no exception occurs in the try block.\n",
        "    *   Finally Block (Optional): Contains code that runs no matter what, used for cleanup actions like closing files.\n",
        "\n",
        "\n",
        "              Example:\n",
        "              \n",
        "                try:\n",
        "                    x = int(\"abc\")\n",
        "                except ValueError:\n",
        "                    print(\"Handled ValueError\")\n",
        "                else:\n",
        "                    print(\"No error occurred\")\n",
        "                finally:\n",
        "                    print(\"Always runs\")\n",
        "\n",
        "\n"
      ],
      "metadata": {
        "id": "JzUkY7wNFxa-"
      }
    },
    {
      "cell_type": "markdown",
      "source": [
        "13. Why is memory management important in Python ?\n",
        "\n",
        "  - Memory management is important in Python because it ensures that the program uses system memory efficiently, preventing memory leaks and crashes. Proper memory management helps maintain the performance and stability of applications by automatically allocating and freeing memory as needed. This allows developers to build complex programs without manually managing memory, while still ensuring that unused objects are removed through Python’s garbage collection system."
      ],
      "metadata": {
        "id": "g1IDT_E8HhdR"
      }
    },
    {
      "cell_type": "markdown",
      "source": [
        "14. What is the role of try and except in exception handling ?\n",
        "\n",
        "  - The try block contains code that might raise an exception during execution.\n",
        "\n",
        "  - The except block catches and handles the exception if one occurs, preventing the program from crashing."
      ],
      "metadata": {
        "id": "WbLk57r7HzWx"
      }
    },
    {
      "cell_type": "markdown",
      "source": [
        "15.  How does Python's garbage collection system work ?\n",
        "\n",
        "  - Python's garbage collection system works by automatically freeing up memory used by objects that are no longer needed. It primarily uses two techniques:\n",
        "\n",
        "  - Reference Counting:\n",
        "Every object has a reference count that tracks how many variables or structures refer to it. When the count drops to zero, the object is deleted.\n",
        "\n",
        "  - Garbage Collector (GC):\n",
        "Python also includes a garbage collector to handle cyclic references (when objects reference each other in a loop). It periodically scans and removes such unused object cycles that reference counting alone can't clean up."
      ],
      "metadata": {
        "id": "MverevV4IeI4"
      }
    },
    {
      "cell_type": "markdown",
      "source": [
        "16. What is the purpose of the else block in exception handling ?\n",
        "\n",
        "  - The purpose of the else block in exception handling is to define code that should run only if no exception occurs in the try block. It helps separate normal execution logic from error-handling logic, making the code cleaner and easier to understand.\n",
        "\n",
        "\n",
        "\n",
        "\n",
        "       Example:\n",
        "\n",
        "            try:\n",
        "                x = int(\"10\")\n",
        "            except ValueError:\n",
        "                print(\"Invalid input\")\n",
        "            else:\n",
        "                print(\"Conversion successful:\", x)"
      ],
      "metadata": {
        "id": "5eU-Gi91JUMB"
      }
    },
    {
      "cell_type": "markdown",
      "source": [
        "17. What are the common logging levels in Python ?\n",
        "\n",
        "  - The common logging levels in Python, from lowest to highest severity, are:\n",
        "\n",
        "      DEBUG – Detailed information, typically for diagnosing problems.\n",
        "\n",
        "      INFO – General information about program execution.\n",
        "\n",
        "      WARNING – Indicates something unexpected, but the program continues to run.\n",
        "\n",
        "      ERROR – A more serious problem that prevents part of the program from working.\n",
        "\n",
        "      CRITICAL – A severe error indicating the program may not continue to run."
      ],
      "metadata": {
        "id": "V0tAdofFLCsH"
      }
    },
    {
      "cell_type": "markdown",
      "source": [
        "18. What is the difference between os.fork() and multiprocessing in Python ?\n",
        "\n",
        "  - os.fork()\n",
        "      -  Creates a child process by duplicating the current process.\n",
        "\n",
        "      -  Works only on Unix/Linux systems (not available on Windows).\n",
        "\n",
        "      -  Lower-level and requires manual management of processes.\n",
        "\n",
        "      -  Both parent and child processes continue executing from the point where fork() is called.\n",
        "\n",
        "   -  multiprocessing module\n",
        "Provides a high-level interface for creating and managing separate processes.\n",
        "\n",
        "       - Cross-platform: works on both Windows and Unix.\n",
        "\n",
        "      -  Handles process creation, communication, and synchronization easily.\n",
        "\n",
        "      -  Safer and more readable for writing parallel programs."
      ],
      "metadata": {
        "id": "nqj6fLEdLk3h"
      }
    },
    {
      "cell_type": "markdown",
      "source": [
        "19. What is the importance of closing a file in Python ?\n",
        "\n",
        "  - Frees system resources: Open files consume system memory and file handles. Closing them releases these resources.\n",
        "\n",
        "  - Ensures data is written: For files opened in write or append mode, closing the file ensures that all data is properly saved (flushed) to the file.\n",
        "\n",
        "  - Prevents data corruption: Leaving files open can lead to incomplete writes or data loss.\n",
        "\n",
        "  - Avoids file access issues: Other programs or parts of the code may not be able to access the file if it's still open.\n",
        "\n",
        "  - Using the with statement is recommended, as it automatically closes the file after use."
      ],
      "metadata": {
        "id": "qEYurfdYNlM8"
      }
    },
    {
      "cell_type": "markdown",
      "source": [
        "20. What is the difference between file.read() and file.readline() in Python ?\n",
        "\n",
        "  - The difference between file.read() and file.readline() in Python lies in how much content they read from a file:\n",
        "\n",
        "        - file.read():Reads the entire content of the file as a single string.\n",
        "\n",
        "        - file.readline(): Reads only one line from the file at a time (up to the next newline \\n)."
      ],
      "metadata": {
        "id": "JsAhlIzpObmP"
      }
    },
    {
      "cell_type": "markdown",
      "source": [
        "21. What is the logging module in Python used for ?\n",
        "\n",
        "  - The logging module in Python is used to record messages about a program’s execution. It helps track events, errors, and warnings, making it easier to debug, monitor, and maintain applications. Instead of using print statements, the logging module provides flexible logging levels (DEBUG, INFO, WARNING, ERROR, CRITICAL) and can output logs to various destinations like the console, files, or external systems."
      ],
      "metadata": {
        "id": "OP714laKO_-Q"
      }
    },
    {
      "cell_type": "markdown",
      "source": [
        "22. What is the os module in Python used for in file handling ?\n",
        "\n",
        "  - The os module in Python is used in file handling to perform interactions with the operating system, such as managing files and directories. It provides functions to:\n",
        "\n",
        "        - Create or remove directories (os.mkdir(), os.rmdir())\n",
        "\n",
        "        -  List files in a directory (os.listdir())\n",
        "\n",
        "        -  Check file or directory existence (os.path.exists())\n",
        "\n",
        "        -  Rename or remove files (os.rename(), os.remove())\n",
        "\n",
        "        -  Get file paths or properties (os.path.join(), os.path.getsize())"
      ],
      "metadata": {
        "id": "iT9MU4N-PVer"
      }
    },
    {
      "cell_type": "markdown",
      "source": [
        "23. What are the challenges associated with memory management in Python ?\n",
        "\n",
        " - The challenges associated with memory management in Python include:\n",
        "      - Memory Leaks: Caused by lingering references to unused objects, especially in long-running programs.\n",
        "      - Circular References: Objects referencing each other can prevent garbage collection unless handled properly.\n",
        "      - High Memory Usage: Python’s dynamic typing and object overhead can lead to more memory consumption compared to lower-level languages.\n",
        "      - Manual Control is Limited: Python handles memory automatically, giving less control to the programmer for fine-tuning.\n",
        "      - Garbage Collection Overhead: The automatic garbage collector can add performance overhead during its execution."
      ],
      "metadata": {
        "id": "uxGln0jFP4Il"
      }
    },
    {
      "cell_type": "markdown",
      "source": [
        "24. How do you raise an exception manually in Python ?\n",
        "\n",
        "  - raise ValueError(\"Invalid input!\")\n",
        "\n",
        "  This will immediately stop the program and raise a ValueError with the message \"Invalid input!\". You can use built-in exceptions like TypeError, ValueError, or create and raise custom exceptions as needed."
      ],
      "metadata": {
        "id": "zhEJ6EbQRJdh"
      }
    },
    {
      "cell_type": "markdown",
      "source": [
        "25. Why is it important to use multithreading in certain applications ?\n",
        "\n",
        "  - Using multithreading is important in certain applications because it allows multiple tasks to run concurrently within the same process, improving the program's efficiency and responsiveness, especially in:\n",
        "\n",
        "        - I/O-bound operations – Threads can perform other tasks while waiting for input/output.\n",
        "        - Responsive applications – In GUI or web servers, multithreading ensures the application stays responsive to users while doing background work.\n",
        "        - Resource sharing – Threads share memory space, making communication between them fast and easy."
      ],
      "metadata": {
        "id": "S1KDmjLKReKC"
      }
    },
    {
      "cell_type": "markdown",
      "source": [
        "## Practical Questions"
      ],
      "metadata": {
        "id": "7ge9v_fWSBgf"
      }
    },
    {
      "cell_type": "code",
      "source": [
        "#1. How can you open a file for writing in Python and write a string to it ?\n",
        "\n",
        "with open(\"example.txt\", \"w\") as file:\n",
        "    file.write(\"Hi, this is a sample text.\")\n",
        "    file.write(\"\\nThis is second line\")\n",
        "    file.write(\"\\nThis is third line\")\n"
      ],
      "metadata": {
        "id": "wD4rG6lYSNmh"
      },
      "execution_count": 21,
      "outputs": []
    },
    {
      "cell_type": "code",
      "source": [
        "#2. Write a Python program to read the contents of a file and print each line ?\n",
        "\n",
        "with open(\"example.txt\", \"r\") as file:\n",
        "    for line in file:\n",
        "        print(line.strip())\n"
      ],
      "metadata": {
        "colab": {
          "base_uri": "https://localhost:8080/"
        },
        "id": "ci_tgFUiSdIF",
        "outputId": "63d2550d-8880-4f5d-8e3e-10b55e9ee11d"
      },
      "execution_count": 24,
      "outputs": [
        {
          "output_type": "stream",
          "name": "stdout",
          "text": [
            "Hi, this is a sample text.\n",
            "This is second line\n",
            "This is third line\n"
          ]
        }
      ]
    },
    {
      "cell_type": "code",
      "source": [
        "#3. How would you handle a case where the file doesn't exist while trying to open it for reading ?\n",
        "\n",
        "try:\n",
        "    with open(\"example1.txt\", \"r\") as file:\n",
        "        for line in file:\n",
        "            print(line.strip())\n",
        "except FileNotFoundError:\n",
        "    print(\"Error: The file does not exist.\")\n"
      ],
      "metadata": {
        "colab": {
          "base_uri": "https://localhost:8080/"
        },
        "id": "q0SDInKYS36j",
        "outputId": "e485b7d1-91f4-4949-bdbd-a8a6456a94be"
      },
      "execution_count": 5,
      "outputs": [
        {
          "output_type": "stream",
          "name": "stdout",
          "text": [
            "Error: The file does not exist.\n"
          ]
        }
      ]
    },
    {
      "cell_type": "code",
      "source": [
        "#4. Write a Python script that reads from one file and writes its content to another file ?\n",
        "\n",
        "try:\n",
        "    with open(\"source.txt\", \"r\") as source_file:\n",
        "        content = source_file.read()\n",
        "\n",
        "    with open(\"destination.txt\", \"w\") as destination_file:\n",
        "        destination_file.write(content)\n",
        "\n",
        "    print(\"File copied successfully.\")\n",
        "except FileNotFoundError:\n",
        "    print(\"Error: Source file not found.\")\n"
      ],
      "metadata": {
        "colab": {
          "base_uri": "https://localhost:8080/"
        },
        "id": "U0zK6JXbTKPb",
        "outputId": "bff0ed13-4b7a-4828-f045-20a7357bbbe4"
      },
      "execution_count": 6,
      "outputs": [
        {
          "output_type": "stream",
          "name": "stdout",
          "text": [
            "Error: Source file not found.\n"
          ]
        }
      ]
    },
    {
      "cell_type": "code",
      "source": [
        "#5. How would you catch and handle division by zero error in Python ?\n",
        "\n",
        "try:\n",
        "    result = 10 / 0\n",
        "except ZeroDivisionError:\n",
        "    print(\"Error: Cannot divide by zero.\")\n",
        "else:\n",
        "    print(\"Result:\", result)"
      ],
      "metadata": {
        "colab": {
          "base_uri": "https://localhost:8080/"
        },
        "id": "tcFRTqUITnv5",
        "outputId": "a9032cda-3f33-4479-fbf9-83d34a651b00"
      },
      "execution_count": 7,
      "outputs": [
        {
          "output_type": "stream",
          "name": "stdout",
          "text": [
            "Error: Cannot divide by zero.\n"
          ]
        }
      ]
    },
    {
      "cell_type": "code",
      "source": [
        "#6. Write a Python program that logs an error message to a log file when a division by zero exception occurs ?\n",
        "\n",
        "import logging\n",
        "\n",
        "logging.basicConfig(filename='error.log', level=logging.ERROR, format='%(asctime)s - %(levelname)s - %(message)s')\n",
        "\n",
        "try:\n",
        "    x = 10 / 0\n",
        "except ZeroDivisionError as e:\n",
        "    logging.error(\"Division by zero occurred: %s\", e)\n",
        "    print(\"An error occurred. Check 'error.log' for details.\")\n"
      ],
      "metadata": {
        "colab": {
          "base_uri": "https://localhost:8080/"
        },
        "id": "wIt6uXDTT20E",
        "outputId": "f8b79275-17bb-486d-edb9-2021dda50abf"
      },
      "execution_count": 8,
      "outputs": [
        {
          "output_type": "stream",
          "name": "stderr",
          "text": [
            "ERROR:root:Division by zero occurred: division by zero\n"
          ]
        },
        {
          "output_type": "stream",
          "name": "stdout",
          "text": [
            "An error occurred. Check 'error.log' for details.\n"
          ]
        }
      ]
    },
    {
      "cell_type": "code",
      "source": [
        "#7.  How do you log information at different levels (INFO, ERROR, WARNING) in Python using the logging module ?\n",
        "\n",
        "import logging\n",
        "\n",
        "logging.basicConfig(level=logging.DEBUG, format='%(levelname)s: %(message)s')\n",
        "\n",
        "logging.debug(\"This is a DEBUG message\")\n",
        "logging.info(\"This is an INFO message\")\n",
        "logging.warning(\"This is a WARNING message\")\n",
        "logging.error(\"This is an ERROR message\")\n",
        "logging.critical(\"This is a CRITICAL message\")\n"
      ],
      "metadata": {
        "colab": {
          "base_uri": "https://localhost:8080/"
        },
        "id": "fxHLjedjUKfF",
        "outputId": "461047ff-cb9d-4c9f-ba00-626e8499736c"
      },
      "execution_count": 9,
      "outputs": [
        {
          "output_type": "stream",
          "name": "stderr",
          "text": [
            "WARNING:root:This is a WARNING message\n",
            "ERROR:root:This is an ERROR message\n",
            "CRITICAL:root:This is a CRITICAL message\n"
          ]
        }
      ]
    },
    {
      "cell_type": "code",
      "source": [
        "#8. Write a program to handle a file opening error using exception handling ?\n",
        "\n",
        "try:\n",
        "    with open(\"non_existing_file.txt\", \"r\") as file:\n",
        "        content = file.read()\n",
        "        print(content)\n",
        "except FileNotFoundError:\n",
        "    print(\"Error: The file could not be found.\")\n",
        "except IOError:\n",
        "    print(\"Error: An I/O error occurred while trying to open the file.\")\n"
      ],
      "metadata": {
        "colab": {
          "base_uri": "https://localhost:8080/"
        },
        "id": "n-evNCkhUjSv",
        "outputId": "764207c7-99ae-4349-ce83-35d853034611"
      },
      "execution_count": 23,
      "outputs": [
        {
          "output_type": "stream",
          "name": "stdout",
          "text": [
            "Error: The file could not be found.\n"
          ]
        }
      ]
    },
    {
      "cell_type": "code",
      "source": [
        "#9. How can you read a file line by line and store its content in a list in Python ?\n",
        "\n",
        "lines = []\n",
        "with open(\"example.txt\", \"r\") as file:\n",
        "    for line in file:\n",
        "        lines.append(line.strip())\n",
        "\n",
        "print(lines)\n"
      ],
      "metadata": {
        "colab": {
          "base_uri": "https://localhost:8080/"
        },
        "id": "XMrwtYvqU-oA",
        "outputId": "8c2bc126-c45d-4e4d-d81e-b50363b213dd"
      },
      "execution_count": 22,
      "outputs": [
        {
          "output_type": "stream",
          "name": "stdout",
          "text": [
            "['Hi, this is a sample text.', 'This is second line', 'This is third line']\n"
          ]
        }
      ]
    },
    {
      "cell_type": "code",
      "source": [
        "#10. How can you append data to an existing file in Python ?\n",
        "\n",
        "with open(\"example.txt\", \"a\") as file:\n",
        "    file.write(\"\\nThis is new appended text.\")\n"
      ],
      "metadata": {
        "id": "IgyePxstVgyp"
      },
      "execution_count": 31,
      "outputs": []
    },
    {
      "cell_type": "code",
      "source": [
        "'''\n",
        "11. Write a Python program that uses a try-except block to handle an error when attempting to access a\n",
        "dictionary key that doesn't exist ?\n",
        "'''\n",
        "\n",
        "student_scores = {\n",
        "    \"Srihari\": 85,\n",
        "    \"Krishna\": 90\n",
        "}\n",
        "\n",
        "try:\n",
        "    print(\"Sri's score:\", student_scores[\"Sri\"])\n",
        "except KeyError:\n",
        "    print(\"Error: 'Sri' is not found in the dictionary.\")\n"
      ],
      "metadata": {
        "colab": {
          "base_uri": "https://localhost:8080/"
        },
        "id": "bCmQRB98WtN5",
        "outputId": "1e1eb5a1-1e12-45c6-d660-a71970834d0a"
      },
      "execution_count": 26,
      "outputs": [
        {
          "output_type": "stream",
          "name": "stdout",
          "text": [
            "Error: 'Sri' is not found in the dictionary.\n"
          ]
        }
      ]
    },
    {
      "cell_type": "code",
      "source": [
        "#12. Write a program that demonstrates using multiple except blocks to handle different types of exceptions ?\n",
        "\n",
        "try:\n",
        "    num = int(input(\"Enter a number: \"))\n",
        "    result = 10 / num\n",
        "    print(\"Result:\", result)\n",
        "    my_list = [1, 2, 3]\n",
        "    print(\"List item:\", my_list[5])\n",
        "except ValueError:\n",
        "    print(\"Error: Invalid input. Please enter a valid number.\")\n",
        "except ZeroDivisionError:\n",
        "    print(\"Error: Cannot divide by zero.\")\n",
        "except IndexError:\n",
        "    print(\"Error: List index out of range.\")\n"
      ],
      "metadata": {
        "colab": {
          "base_uri": "https://localhost:8080/"
        },
        "id": "ECrcECrnXfbv",
        "outputId": "0557d962-f6e5-4b73-cb8d-7e0ea7c60c0c"
      },
      "execution_count": 27,
      "outputs": [
        {
          "output_type": "stream",
          "name": "stdout",
          "text": [
            "Enter a number: 15\n",
            "Result: 0.6666666666666666\n",
            "Error: List index out of range.\n"
          ]
        }
      ]
    },
    {
      "cell_type": "code",
      "source": [
        "#13. How would you check if a file exists before attempting to read it in Python ?\n",
        "\n",
        "import os\n",
        "\n",
        "file_path = \"example.txt\"\n",
        "\n",
        "if os.path.exists(file_path):\n",
        "    with open(file_path, \"r\") as file:\n",
        "        content = file.read()\n",
        "        print(content)\n",
        "else:\n",
        "    print(\"Error: File does not exist.\")\n"
      ],
      "metadata": {
        "colab": {
          "base_uri": "https://localhost:8080/"
        },
        "id": "uEJxnsItXwZQ",
        "outputId": "7c1ed4ab-1913-42d1-b59f-728bc1612fc0"
      },
      "execution_count": 32,
      "outputs": [
        {
          "output_type": "stream",
          "name": "stdout",
          "text": [
            "Hi, this is a sample text.\n",
            "This is second line\n",
            "This is third lineThis is new appended text.\n",
            "\n",
            " This is new appended text.\n",
            "This is new appended text.\n"
          ]
        }
      ]
    },
    {
      "cell_type": "code",
      "source": [
        "#14. Write a program that uses the logging module to log both informational and error messages ?\n",
        "\n",
        "import logging\n",
        "logging.basicConfig(filename='app.log', level=logging.DEBUG, format='%(asctime)s - %(levelname)s - %(message)s')\n",
        "logging.info(\"Program started successfully.\")\n",
        "\n",
        "try:\n",
        "    x = 10\n",
        "    y = 0\n",
        "    result = x / y\n",
        "    logging.info(f\"Division result: {result}\")\n",
        "except ZeroDivisionError as e:\n",
        "    logging.error(f\"Error occurred: {e}\")\n",
        "\n",
        "logging.info(\"Program ended.\")\n"
      ],
      "metadata": {
        "colab": {
          "base_uri": "https://localhost:8080/"
        },
        "id": "XsRk0o-lX_VS",
        "outputId": "4bf7865a-398f-415b-c71a-061d2bf63412"
      },
      "execution_count": 33,
      "outputs": [
        {
          "output_type": "stream",
          "name": "stderr",
          "text": [
            "ERROR:root:Error occurred: division by zero\n"
          ]
        }
      ]
    },
    {
      "cell_type": "code",
      "source": [
        "#15. Write a Python program that prints the content of a file and handles the case when the file is empty ?\n",
        "\n",
        "def read_file(filename):\n",
        "    try:\n",
        "        with open(filename, \"r\") as file:\n",
        "            content = file.read()\n",
        "            if content.strip() == \"\":\n",
        "                print(\"The file is empty.\")\n",
        "            else:\n",
        "                print(\"File content:\\n\", content)\n",
        "    except FileNotFoundError:\n",
        "        print(f\"Error: '{filename}' not found.\")\n",
        "\n",
        "read_file(\"example.txt\")\n"
      ],
      "metadata": {
        "colab": {
          "base_uri": "https://localhost:8080/"
        },
        "id": "V2fMnI2VY2gM",
        "outputId": "64bd8dbb-7b09-45cc-f103-84cffae972be"
      },
      "execution_count": 35,
      "outputs": [
        {
          "output_type": "stream",
          "name": "stdout",
          "text": [
            "File content:\n",
            " Hi, this is a sample text.\n",
            "This is second line\n",
            "This is third lineThis is new appended text.\n",
            "\n",
            " This is new appended text.\n",
            "This is new appended text.\n"
          ]
        }
      ]
    },
    {
      "cell_type": "code",
      "source": [
        "#16. Demonstrate how to use memory profiling to check the memory usage of a small program ?\n",
        "\n",
        "from memory_profiler import profile\n",
        "\n",
        "@profile\n",
        "def my_function():\n",
        "    nums = [x * 2 for x in range(100000)]\n",
        "    return nums\n",
        "\n",
        "my_function()"
      ],
      "metadata": {
        "id": "3rH1R1NnZ3wk"
      },
      "execution_count": null,
      "outputs": []
    },
    {
      "cell_type": "code",
      "source": [
        "#17. Write a Python program to create and write a list of numbers to a file, one number per line ?\n",
        "\n",
        "numbers = [1, 2, 3, 4, 5]\n",
        "\n",
        "with open(\"numbers.txt\", \"w\") as file:\n",
        "    for number in numbers:\n",
        "        file.write(str(number) + \"\\n\")\n",
        "\n",
        "print(\"Numbers written to 'numbers.txt' successfully.\")\n"
      ],
      "metadata": {
        "colab": {
          "base_uri": "https://localhost:8080/"
        },
        "id": "R-BMndeCZ_93",
        "outputId": "7fd88fcb-6560-429c-ba98-6dae4da5f345"
      },
      "execution_count": 39,
      "outputs": [
        {
          "output_type": "stream",
          "name": "stdout",
          "text": [
            "Numbers written to 'numbers.txt' successfully.\n"
          ]
        }
      ]
    },
    {
      "cell_type": "code",
      "source": [
        "#18. How would you implement a basic logging setup that logs to a file with rotation after 1MB ?\n",
        "\n",
        "import logging\n",
        "from logging.handlers import RotatingFileHandler\n",
        "\n",
        "log_handler = RotatingFileHandler(\"app.log\", maxBytes=1 * 1024 * 1024, backupCount=3)\n",
        "logging.basicConfig(\n",
        "    level=logging.INFO, format=\"%(asctime)s - %(levelname)s - %(message)s\", handlers=[log_handler])\n",
        "\n",
        "for i in range(10000):\n",
        "    logging.info(f\"This is log message number {i}\")\n"
      ],
      "metadata": {
        "id": "agCXnrb7aNPV"
      },
      "execution_count": 40,
      "outputs": []
    },
    {
      "cell_type": "code",
      "source": [
        "#19. Write a program that handles both IndexError and KeyError using a try-except block ?\n",
        "\n",
        "my_list = [10, 20, 30]\n",
        "my_dict = {\"a\": 1, \"b\": 2}\n",
        "\n",
        "try:\n",
        "    print(\"List item:\", my_list[5])\n",
        "    print(\"Dictionary value:\", my_dict[\"z\"])\n",
        "\n",
        "except IndexError:\n",
        "    print(\"Error: List index is out of range.\")\n",
        "except KeyError:\n",
        "    print(\"Error: Dictionary key not found.\")\n"
      ],
      "metadata": {
        "colab": {
          "base_uri": "https://localhost:8080/"
        },
        "id": "oF77qJBmamdf",
        "outputId": "36e2498a-6305-4143-96bb-65fdc8f02f60"
      },
      "execution_count": 41,
      "outputs": [
        {
          "output_type": "stream",
          "name": "stdout",
          "text": [
            "Error: List index is out of range.\n"
          ]
        }
      ]
    },
    {
      "cell_type": "code",
      "source": [
        "#20. How would you open a file and read its contents using a context manager in Python ?\n",
        "\n",
        "file_path = \"example.txt\"\n",
        "\n",
        "with open(file_path, \"r\") as file:\n",
        "    content = file.read()\n",
        "    print(content)\n",
        "\n",
        "\n"
      ],
      "metadata": {
        "colab": {
          "base_uri": "https://localhost:8080/"
        },
        "id": "7npem8Yja5vN",
        "outputId": "c6e9cbee-aa02-4c0a-c169-57cfe98ea92f"
      },
      "execution_count": 42,
      "outputs": [
        {
          "output_type": "stream",
          "name": "stdout",
          "text": [
            "Hi, this is a sample text.\n",
            "This is second line\n",
            "This is third lineThis is new appended text.\n",
            "\n",
            " This is new appended text.\n",
            "This is new appended text.\n"
          ]
        }
      ]
    },
    {
      "cell_type": "code",
      "source": [
        "#21. Write a Python program that reads a file and prints the number of occurrences of a specific word ?\n",
        "\n",
        "def count_word_occurrences(filename, word_to_count):\n",
        "    try:\n",
        "        with open(filename, \"r\") as file:\n",
        "            content = file.read()\n",
        "            words = content.lower().split()\n",
        "            count = words.count(word_to_count.lower())\n",
        "            print(f\"The word '{word_to_count}' occurs {count} times in '{filename}'.\")\n",
        "    except FileNotFoundError:\n",
        "        print(f\"Error: File '{filename}' not found.\")\n",
        "\n",
        "count_word_occurrences(\"example.txt\", \"python\")\n"
      ],
      "metadata": {
        "colab": {
          "base_uri": "https://localhost:8080/"
        },
        "id": "G-8ou3cYbIOJ",
        "outputId": "e25c1b32-d0d6-441e-c882-addd92a10f9c"
      },
      "execution_count": 44,
      "outputs": [
        {
          "output_type": "stream",
          "name": "stdout",
          "text": [
            "The word 'python' occurs 0 times in 'example.txt'.\n"
          ]
        }
      ]
    },
    {
      "cell_type": "code",
      "source": [
        "#22. How can you check if a file is empty before attempting to read its contents ?\n",
        "\n",
        "import os\n",
        "\n",
        "file_path = \"example.txt\"\n",
        "\n",
        "if os.path.exists(file_path) and os.path.getsize(file_path) > 0:\n",
        "    with open(file_path, \"r\") as file:\n",
        "        content = file.read()\n",
        "        print(\"File content:\\n\", content)\n",
        "else:\n",
        "    print(\"The file is either empty or does not exist.\")\n"
      ],
      "metadata": {
        "colab": {
          "base_uri": "https://localhost:8080/"
        },
        "id": "Djm460Gzb1U7",
        "outputId": "14f00b00-170f-4636-fa8b-dfab83bb7935"
      },
      "execution_count": 45,
      "outputs": [
        {
          "output_type": "stream",
          "name": "stdout",
          "text": [
            "File content:\n",
            " Hi, this is a sample text.\n",
            "This is second line\n",
            "This is third lineThis is new appended text.\n",
            "\n",
            " This is new appended text.\n",
            "This is new appended text.\n"
          ]
        }
      ]
    },
    {
      "cell_type": "code",
      "source": [
        "#23. Write a Python program that writes to a log file when an error occurs during file handling ?\n",
        "\n",
        "import logging\n",
        "\n",
        "logging.basicConfig(filename='file_errors.log',\n",
        "                    level=logging.ERROR,\n",
        "                    format='%(asctime)s - %(levelname)s - %(message)s')\n",
        "\n",
        "def read_file(filename):\n",
        "    try:\n",
        "        with open(filename, \"r\") as file:\n",
        "            content = file.read()\n",
        "            print(content)\n",
        "    except Exception as e:\n",
        "        logging.error(f\"Error reading file '{filename}': {e}\")\n",
        "        print(\"An error occurred while reading the file. Check the log for details.\")\n",
        "\n",
        "read_file(\"non_existing_file.txt\")\n"
      ],
      "metadata": {
        "colab": {
          "base_uri": "https://localhost:8080/"
        },
        "id": "DNbLBKcrciMJ",
        "outputId": "5ed98281-028a-413e-b479-54132f6ce0c6"
      },
      "execution_count": 46,
      "outputs": [
        {
          "output_type": "stream",
          "name": "stderr",
          "text": [
            "ERROR:root:Error reading file 'non_existing_file.txt': [Errno 2] No such file or directory: 'non_existing_file.txt'\n"
          ]
        },
        {
          "output_type": "stream",
          "name": "stdout",
          "text": [
            "An error occurred while reading the file. Check the log for details.\n"
          ]
        }
      ]
    },
    {
      "cell_type": "code",
      "source": [],
      "metadata": {
        "id": "nHQP9bLYczP9"
      },
      "execution_count": null,
      "outputs": []
    }
  ]
}